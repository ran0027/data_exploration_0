{
 "cells": [
  {
   "cell_type": "markdown",
   "metadata": {},
   "source": [
    "The purpose of this notebook is: to explore a .csv file."
   ]
  },
  {
   "cell_type": "code",
   "execution_count": 1,
   "metadata": {},
   "outputs": [],
   "source": [
    "import csv"
   ]
  },
  {
   "cell_type": "code",
   "execution_count": 3,
   "metadata": {},
   "outputs": [
    {
     "name": "stdout",
     "output_type": "stream",
     "text": [
      "[{'name': 'a2gov_org', 'title': 'Ann Arbor, Michigan', 'url': 'http://www.a2gov.org/services/data/Pages/default.aspx', 'author': 'City of Ann Arbor', 'publisher': 'City of Ann Arbor', 'issued': '', 'publisher_classification': '', 'description': \"City of Ann Arbor's Open Data Catalog (USA)\", 'tags': 'ctic unitedstates', 'license_id': '', 'license_url': '', 'license_notes': '', 'place': 'Ann Arbor, Michigan', 'location': '42.2681569,-83.7312291', 'country': 'US', 'language': 'en', 'status': 'active', 'metadatacreated': '2011-06-27T18:12:57.439Z', 'generator': '', 'api_endpoint': '', 'api_type': '', 'full_metadata_download': ''}, {'name': 'acikveri-sahinbey-bel-tr', 'title': 'Açık Veri Portali - Test Yayını', 'url': 'http://acikveri.sahinbey.bel.tr/dataset', 'author': 'pinardag', 'publisher': 'SahinBey Belediyesi', 'issued': '31/01/2015', 'publisher_classification': 'Government', 'description': 'The first official open data portal of Turkey', 'tags': 'turkey national', 'license_id': 'Unknown', 'license_url': '', 'license_notes': '', 'place': 'Gaziantep,Turkey', 'location': '37.0587715,37.380137', 'country': 'TR', 'language': 'tr', 'status': 'active', 'metadatacreated': '', 'generator': '', 'api_endpoint': '', 'api_type': '', 'full_metadata_download': ''}, {'name': 'africa_open_data', 'title': 'Africa Open Data', 'url': 'http://africaopendata.org/', 'author': 'Africa Open Data', 'publisher': 'Africa Open Data', 'issued': '', 'publisher_classification': '', 'description': \"Africa's largest central repository for Government, Civil Society, Corporate and Donor Agency Data.\", 'tags': 'ckan africa', 'license_id': '', 'license_url': '', 'license_notes': '', 'place': 'Africa', 'location': '2.0000003,15.9999997', 'country': 'AF', 'language': 'en', 'status': 'active', 'metadatacreated': '2013-03-15T07:17:26.251Z', 'generator': 'CKAN: 2.1.3', 'api_endpoint': 'http://africaopendata.org/api/', 'api_type': '', 'full_metadata_download': ''}, {'name': 'ajuntament-de-tarragona', 'title': 'Open Data Tarragona', 'url': 'http://opendata.tarragona.cat/', 'author': 'Ajuntament de Tarragona', 'publisher': 'Ajuntament de Tarragona', 'issued': '', 'publisher_classification': 'Government', 'description': 'Open Data Tarragona', 'tags': 'city spain', 'license_id': '', 'license_url': '', 'license_notes': '', 'place': 'Tarragona', 'location': '41.1157, 1.2496', 'country': 'ES', 'language': 'ca es en', 'status': 'active', 'metadatacreated': '', 'generator': '', 'api_endpoint': '', 'api_type': '', 'full_metadata_download': ''}, {'name': 'ajuntament-de-terassa', 'title': 'Open Data Terassa', 'url': 'http://opendata.terrassa.cat/', 'author': 'Ajuntament de Terassa', 'publisher': 'Ajuntament de Terassa', 'issued': '', 'publisher_classification': 'Government', 'description': 'Open Data Terassa', 'tags': 'city spain', 'license_id': '', 'license_url': '', 'license_notes': '', 'place': 'Terrasa', 'location': '41.5611, 2.0081', 'country': 'ES', 'language': 'es en', 'status': 'active', 'metadatacreated': '', 'generator': '', 'api_endpoint': '', 'api_type': '', 'full_metadata_download': ''}]\n"
     ]
    }
   ],
   "source": [
    "with open(\"open_alabama.csv\", encoding = 'utf8') as f:\n",
    "    alabama_data = list(csv.DictReader(f))\n",
    "    \n",
    "print(alabama_data[:5])"
   ]
  },
  {
   "cell_type": "code",
   "execution_count": 4,
   "metadata": {},
   "outputs": [
    {
     "name": "stdout",
     "output_type": "stream",
     "text": [
      "{'name': 'a2gov_org', 'title': 'Ann Arbor, Michigan', 'url': 'http://www.a2gov.org/services/data/Pages/default.aspx', 'author': 'City of Ann Arbor', 'publisher': 'City of Ann Arbor', 'issued': '', 'publisher_classification': '', 'description': \"City of Ann Arbor's Open Data Catalog (USA)\", 'tags': 'ctic unitedstates', 'license_id': '', 'license_url': '', 'license_notes': '', 'place': 'Ann Arbor, Michigan', 'location': '42.2681569,-83.7312291', 'country': 'US', 'language': 'en', 'status': 'active', 'metadatacreated': '2011-06-27T18:12:57.439Z', 'generator': '', 'api_endpoint': '', 'api_type': '', 'full_metadata_download': ''}\n"
     ]
    }
   ],
   "source": [
    "print(alabama_data[0])"
   ]
  },
  {
   "cell_type": "code",
   "execution_count": null,
   "metadata": {},
   "outputs": [],
   "source": []
  }
 ],
 "metadata": {
  "kernelspec": {
   "display_name": "Python (learn-env)",
   "language": "python",
   "name": "learn-env"
  },
  "language_info": {
   "codemirror_mode": {
    "name": "ipython",
    "version": 3
   },
   "file_extension": ".py",
   "mimetype": "text/x-python",
   "name": "python",
   "nbconvert_exporter": "python",
   "pygments_lexer": "ipython3",
   "version": "3.8.5"
  }
 },
 "nbformat": 4,
 "nbformat_minor": 4
}
